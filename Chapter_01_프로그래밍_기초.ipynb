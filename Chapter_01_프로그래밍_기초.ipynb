{
  "nbformat": 4,
  "nbformat_minor": 0,
  "metadata": {
    "kernelspec": {
      "display_name": "Python 3",
      "language": "python",
      "name": "python3"
    },
    "language_info": {
      "codemirror_mode": {
        "name": "ipython",
        "version": 3
      },
      "file_extension": ".py",
      "mimetype": "text/x-python",
      "name": "python",
      "nbconvert_exporter": "python",
      "pygments_lexer": "ipython3",
      "version": "3.6.6"
    },
    "toc": {
      "base_numbering": 1,
      "nav_menu": {},
      "number_sections": true,
      "sideBar": true,
      "skip_h1_title": false,
      "title_cell": "Table of Contents",
      "title_sidebar": "Contents",
      "toc_cell": false,
      "toc_position": {},
      "toc_section_display": true,
      "toc_window_display": false
    },
    "colab": {
      "name": "Chapter_01_프로그래밍_기초.ipynb",
      "provenance": [],
      "collapsed_sections": [],
      "toc_visible": true,
      "include_colab_link": true
    }
  },
  "cells": [
    {
      "cell_type": "markdown",
      "metadata": {
        "id": "view-in-github",
        "colab_type": "text"
      },
      "source": [
        "<a href=\"https://colab.research.google.com/github/YJinPark/collab_test/blob/main/Chapter_01_%ED%94%84%EB%A1%9C%EA%B7%B8%EB%9E%98%EB%B0%8D_%EA%B8%B0%EC%B4%88.ipynb\" target=\"_parent\"><img src=\"https://colab.research.google.com/assets/colab-badge.svg\" alt=\"Open In Colab\"/></a>"
      ]
    },
    {
      "cell_type": "markdown",
      "metadata": {
        "id": "Xn_bPjW10qHz"
      },
      "source": [
        "# Chapter 01. 프로그래밍 기초 연습하기 (총 60문제)"
      ]
    },
    {
      "cell_type": "markdown",
      "metadata": {
        "id": "hR5XfHWy0qIi"
      },
      "source": [
        "## 실습 가이드\n",
        "1. 난이도는 매우 쉬운 문제부터 점차 난이도가 있는 문제로 올라갑니다.\n",
        "\n",
        "2. 이번 파트에서 풀게 될 문제들은 \"파이썬 프로그래밍\" 파트에서 배운 내용들을 기준으로 구성 되었습니다.\n",
        "> 물론 개인의 선택에 따라 사용하셔도 되지만, 권장하지 않습니다.\n",
        "\n",
        "3. 강의에서 배운 것 뿐만 아니라, 구글링하셔서 자유롭게 코딩하셔도 상관없습니다.\n",
        "> 문제 해결에 집중해서 다양한 방법으로 풀어보세요!"
      ]
    },
    {
      "cell_type": "markdown",
      "metadata": {
        "id": "RlsQsuiB0qIm"
      },
      "source": [
        "### <b>학습목표</b>\n",
        "- 1) 파이썬 데이터 타입의 이해\n",
        "- 2) if문의 이해\n",
        "- 3) for, while문의 이해\n",
        "- 4) 함수(def)의 이해\n",
        "- 5) 외부 라이브러리에 대한 이해"
      ]
    },
    {
      "cell_type": "markdown",
      "metadata": {
        "id": "p3cbNzXr0qIn"
      },
      "source": [
        "- 출제자: 김용담 강사"
      ]
    },
    {
      "cell_type": "markdown",
      "metadata": {
        "id": "rHgTqLGDC1fc"
      },
      "source": [
        "### 문제 01. 숫자 계산1\n",
        "\n",
        "- 두 개의 숫자 a, b에 원하는 숫자를 넣고 a가 b의 배수인지 확인하는 코드를 작성하세요.\n",
        "\n",
        "- 배수라면, \"a는 b의 배수입니다.\"를 출력하고, 그렇지 않다면 \"a는 b의 배수가 아닙니다.\"를 출력하세요."
      ]
    },
    {
      "cell_type": "code",
      "metadata": {
        "id": "WRNQuBERCyDB",
        "outputId": "3ccbbdc3-a125-4e25-b987-727c5f265237",
        "colab": {
          "base_uri": "https://localhost:8080/"
        }
      },
      "source": [
        "a, b = 6,3\n",
        "if (a%b)==0:\n",
        "  print(\"배수\")\n",
        "else:\n",
        "  print(\"배수아님\")"
      ],
      "execution_count": 17,
      "outputs": [
        {
          "output_type": "stream",
          "name": "stdout",
          "text": [
            "배수\n"
          ]
        }
      ]
    },
    {
      "cell_type": "markdown",
      "metadata": {
        "id": "Dy8YLqr5FcEL"
      },
      "source": [
        "### 문제 02. 숫자 계산2\n",
        "\n",
        "- 주어진 실수값 f, g, h에 대해서 각 실수값을 소수점 세번째 자리에서 반올림한 값을 출력하는 코드를 작성하세요.\n",
        "\n",
        "- 예를 들어 f, g, h가 각각 3.145, 6.1888, 1.00123라면 결과 출력은 3.15, 6.19, 1.00 입니다."
      ]
    },
    {
      "cell_type": "code",
      "metadata": {
        "id": "47GXgKIeFcQp",
        "outputId": "255b33ce-33bc-4c12-c522-46f5eac7bd5f",
        "colab": {
          "base_uri": "https://localhost:8080/"
        }
      },
      "source": [
        "f, g, h = 3.145, 6.1888, 1.00123\n",
        "\n",
        "f1 = round(f,2)\n",
        "g1 = round(g,2)\n",
        "h1 = round(h,2)\n",
        "print(f1,g1,h1)\n"
      ],
      "execution_count": 19,
      "outputs": [
        {
          "output_type": "stream",
          "name": "stdout",
          "text": [
            "3.15 6.19 1.0\n"
          ]
        }
      ]
    },
    {
      "cell_type": "markdown",
      "metadata": {
        "id": "cQzZX0HjDq_1"
      },
      "source": [
        "### 문제 03. 숫자 계산3\n",
        "\n",
        "- 리스트로 주어진 수열 2개가 있습니다. 해당 수열들의 중앙값을 출력하는 코드를 작성해보세요.\n",
        "\n",
        "- 중앙값의 정의는 홀수 개의 숫자에 대해서는 크기 순서대로 가장 가운데 있는 값입니다.\n",
        "\n",
        "- 짝수 개의 숫자에 대해서는 크기 순서대로 가장 가운데 있는 두 개의 숫자의 평균입니다.\n",
        "\n",
        "- 예를 들어, [5, 11, 2, 4] 수열이 주어진다면 정답은 4.5입니다.\n",
        "\n",
        "- [1, 3, 4, 5, 100] 수열이 주어진다면 정답은 4입니다."
      ]
    },
    {
      "cell_type": "code",
      "metadata": {
        "id": "I6zp_gEoDqfG",
        "outputId": "2faa3ea5-a9e6-4fc3-8d97-8400db352ea1",
        "colab": {
          "base_uri": "https://localhost:8080/"
        }
      },
      "source": [
        "import pandas as pd\n",
        "import numpy as np\n",
        "numbers1 = [5, 11, 2,4]\n",
        "numbers2 = [1, 3, 4, 5, 100] \n",
        "\n",
        "numbers1.sort()\n",
        "numbers2.sort()\n",
        "\n",
        "ls1 = len(numbers1)\n",
        "ls2 = len(numbers2)\n",
        "print(ls1,ls2)\n",
        "\n",
        "if (ls1%2)==0:\n",
        "  a=(numbers1[int(ls1/2)]+numbers1[int((ls1/2)-1)])/2\n",
        "  print(\"a는 짝수\")\n",
        "else:\n",
        "  a=numbers1[int(ls1/2)]\n",
        "  print(\"a는 홀수\")\n",
        "\n",
        "\n",
        "\n",
        "if (ls2%2)==0:\n",
        "  b=(numbers2[int(ls2/2)]+numbers2[int((ls2/2)-1)])/2\n",
        "  print(\"b는 짝수\")\n",
        "\n",
        "else:\n",
        "  b=numbers2[int(ls2/2)]\n",
        "  print(\"b는 홀수\")\n",
        "\n",
        "\n",
        "print(a)\n",
        "print(b)\n",
        "\n",
        "\n",
        "\n",
        "\n"
      ],
      "execution_count": 32,
      "outputs": [
        {
          "output_type": "stream",
          "name": "stdout",
          "text": [
            "4 5\n",
            "a는 짝수\n",
            "b는 홀수\n",
            "4.5\n",
            "4\n"
          ]
        }
      ]
    },
    {
      "cell_type": "markdown",
      "metadata": {
        "id": "B2MLQ8Ff0qIp"
      },
      "source": [
        "### 문제 04. 윤년 계산하기\n",
        "\n",
        "- 사용자 입력을 받은 숫자 N이 있습니다.\n",
        "\n",
        "- 주어진 숫자 N이 윤년인지 아닌지 출력하는 코드를 작성해주세요.\n",
        "> print(\"%d년은 윤년입니다.\" % N) **or**\n",
        "> print(\"%d년은 윤년이 아닙니다.\" % N)\n",
        "\n",
        "- 윤년 규칙은 다음과 같습니다.\n",
        "\n",
        "> 1. 4의 배수일 것\n",
        "> 2. 100의 배수가 아닐 것(이 경우엔 1번 조건을 무시합니다.)\n",
        "> 3. 400의 배수일 것 (이 경우엔 2번 조건을 무시합니다.)\n",
        "\n",
        "- 예를 들어, 2004년은 1번 조건을 만족하므로 윤년입니다.\n",
        "- 2000년은 3번 조건을 만족하므로 윤년입니다.\n",
        "- 2100년은 2번 조건을 만족하므로 윤년이 아닙니다.\n"
      ]
    },
    {
      "cell_type": "code",
      "metadata": {
        "id": "yEUiebcx0qIq",
        "outputId": "7883352e-9053-49eb-e46a-51644871d882",
        "colab": {
          "base_uri": "https://localhost:8080/"
        }
      },
      "source": [
        "N = int(input(\"년도를 입력하세요 : \"))\n",
        "\n",
        "flag = None\n",
        "\n",
        "if N%4 == 0:\n",
        "  if N%100 == 0:\n",
        "    if N%400 == 0:\n",
        "      flag = True\n",
        "    else:\n",
        "      flag = False\n",
        "  else:\n",
        "    flag = True\n",
        "else:\n",
        "  flag = False\n",
        "\n",
        "if(flag == True):\n",
        "  print(\"%d년은 윤년입니다.\" % N)\n",
        "else:\n",
        "  print(\"%d년은 윤년이 아닙니다.\" % N)\n"
      ],
      "execution_count": 40,
      "outputs": [
        {
          "output_type": "stream",
          "name": "stdout",
          "text": [
            "년도를 입력하세요 : 2000\n",
            "2000년은 윤년입니다.\n"
          ]
        }
      ]
    },
    {
      "cell_type": "markdown",
      "metadata": {
        "id": "cupV8lpw0qIr"
      },
      "source": [
        "### 문제 05. 평균 계산하기\n",
        "\n",
        "- 철수는 5개의 과목에서 주어진 리스트와 같은 성적을 받았습니다.\n",
        "\n",
        "- 철수가 받은 성적의 평균을 계산하는 코드를 작성하세요."
      ]
    },
    {
      "cell_type": "code",
      "metadata": {
        "id": "rrtfD32hD-yz",
        "outputId": "fe2ae55c-4141-44d8-d8d5-45b6d7a7c5a2",
        "colab": {
          "base_uri": "https://localhost:8080/"
        }
      },
      "source": [
        "import numpy as np\n",
        "# 각 성적은 0~100점 사이입니다.\n",
        "grades = [65, 70, 100, 43, 50]\n",
        "\n",
        "result=np.mean(grades)\n",
        "print(result)\n",
        "\n"
      ],
      "execution_count": 41,
      "outputs": [
        {
          "output_type": "stream",
          "name": "stdout",
          "text": [
            "65.6\n"
          ]
        }
      ]
    },
    {
      "cell_type": "markdown",
      "metadata": {
        "id": "YZMNz6Es0qIs"
      },
      "source": [
        "### 문제 06. 십의 자리 숫자 구하기\n",
        "\n",
        "- 사용자 입력을 받는 두 자리 이상 숫자 N에 대해서, 십의 자리 숫자를 출력하는 코드를 작성해보세요.\n",
        "\n",
        "- 예를 들어, 12097509172099019385이 입력으로 들어오면 출력 결과는 8\n",
        "- 80135789164791672903791035719037이 입력으로 들어오면 출력 결과는 3\n",
        "- 34가 입력으로 들어오면 출력 결과는 3"
      ]
    },
    {
      "cell_type": "code",
      "metadata": {
        "id": "SWLusfet0qIt"
      },
      "source": [
        "N = int(input(\"두 자리 이상 숫자를 입력하세요 : \"))\n"
      ],
      "execution_count": null,
      "outputs": []
    },
    {
      "cell_type": "markdown",
      "metadata": {
        "id": "v9PMA9ZOBJSk"
      },
      "source": [
        "### 문제 07. 단어 고치기\n",
        "\n",
        "- 영희는 문장을 빠르게 입력하다가, 'w'를 모두 'q'라고 작성해버렸습니다.\n",
        "\n",
        "- 주어진 문장들을 모두 맞게 변경하여 주세요.\n",
        "> 단, 주어진 모든 문장에 사용된 'q'는 'w'가 변경된 것이라고 가정합니다.\n",
        "\n",
        "- 예를 들면, \"I am wuitting this exam.\" -> \"I am quitting this exam.\"\n",
        "- \"This is the wuickest approach I ever seen.\" -> \"Thie is the quickest approach I ever seen.\"\n",
        "- \"The wueen should make wuick decision\" -> \"The queen should make quick decision.\""
      ]
    },
    {
      "cell_type": "code",
      "metadata": {
        "id": "LqYtcDqX0qIw"
      },
      "source": [
        "sentences = [\"I am wuitting this exam.\", \"This is wuickest approach I ever seen.\", \"The wueen should make wuick decision.\"]\n",
        "\n"
      ],
      "execution_count": null,
      "outputs": []
    },
    {
      "cell_type": "markdown",
      "metadata": {
        "id": "GkBEQj9G0qI0"
      },
      "source": [
        "### 문제 08. 단어 개수 파악하기\n",
        "\n",
        "- 주어진 문장들에 대해서 몇 개의 단어가 있는지 출력하는 코드를 작성하세요.\n",
        "\n",
        "- 예를 들어, \"I am quitting this exam\"이란 문장은 5개의 단어가 있습니다.\n",
        "\n",
        "- \"This is quickest approach I ever seen.\"이란 문장은 7개의 단어가 있습니다."
      ]
    },
    {
      "cell_type": "code",
      "metadata": {
        "id": "HcmHjiQ10qI0"
      },
      "source": [
        "sentences = [\"I am quitting this exam.\", \"This is quickest approach I ever seen.\", \"The queen should make quick decision.\"]\n",
        "\n"
      ],
      "execution_count": null,
      "outputs": []
    },
    {
      "cell_type": "markdown",
      "metadata": {
        "id": "AiAe1P2R0qI0"
      },
      "source": [
        "### 문제 09. 주민등록번호 가리기\n",
        "\n",
        "- 우리의 개인 정보는 소중합니다. 주어진 주민등록번호들의 뒤에 6자리를 가려주는 코드를 작성하세요.\n",
        "\n",
        "- 예를 들면, 911210-1234567 -> 911210-1\\*\\*\\*\\*\\*\\*로 변경됩니다.\n",
        "\n",
        "- 011220-3123456 -> 011220-3\\*\\*\\*\\*\\*\\*로 변경됩니다."
      ]
    },
    {
      "cell_type": "code",
      "metadata": {
        "id": "5Qz-n54aEDfj"
      },
      "source": [
        "old_man = \"911210-1234567\"\n",
        "young_man = \"011220-3123456\"\n",
        "old_woman = \"891103-2513455\"\n",
        "young_woman = \"040302-4912911\"\n",
        "\n"
      ],
      "execution_count": null,
      "outputs": []
    },
    {
      "cell_type": "markdown",
      "metadata": {
        "id": "1w_hZJREUzAo"
      },
      "source": [
        "### 문제 10. 학습 결과 출력하기\n",
        "- 머신러닝에서는 모델이 학습을 하게 되면, 학습에 주어진 인자들을 가지고 어떤 결과가 나왔는지 출력을 하게 됩니다.\n",
        "\n",
        "- 주어진 인자를 해당 하는 자리에 위치하는 출력문을 작성해보세요.\n",
        "(각 용어의 의미는 현재 중요하지 않습니다.)\n",
        "\n",
        "\n",
        "- 다음은 출력문의 예시입니다.\n",
        "\n",
        "\n",
        "\"ResNet44 모델로 10 epoch를 돌려 학습시킨 결과는 학습 정확도 : 0.85, 검증 정확도 : 0.83, 테스트 정확도 : 0.76으로 나왔습니다\"\n",
        "\n",
        "\"U-Net 모델로 10000 epoch를 돌려 학습시킨 결과는 학습 정확도 0.87, 검증 정확도 : 0.5, 테스트 정확도 : 0.43으로 나왔습니다.\"\n"
      ]
    },
    {
      "cell_type": "code",
      "metadata": {
        "id": "NGkhV7vr2hhX"
      },
      "source": [
        "# 다음 주어진 변수를 활용하여 주어진 문제의 코드를 작성하세요.\n",
        "epoch = 10\n",
        "train_accuracy = 0.85; val_accuracy = 0.83; test_accuracy = 0.76\n",
        "model_name = \"ResNet44\"\n"
      ],
      "execution_count": null,
      "outputs": []
    },
    {
      "cell_type": "markdown",
      "metadata": {
        "id": "JvCz3HyC9A1E"
      },
      "source": [
        "### 문제 11. 리스트를 한 번 만들어볼까요?\n",
        "* 어떤 학급의 아이 5명의 키에 대한 정보가 주어집니다.\n",
        "* 이를 리스트로 만들고 heights 라는 변수에 담아주세요.\n",
        "*  175.3, 146, 184, 160, 167 \n",
        "> 단위인 cm는 표시하지 마세요. 숫자만!"
      ]
    },
    {
      "cell_type": "code",
      "metadata": {
        "id": "zCE2uymj2hb2"
      },
      "source": [
        "# 코드\n"
      ],
      "execution_count": null,
      "outputs": []
    },
    {
      "cell_type": "markdown",
      "metadata": {
        "id": "ifFKQEe37ufP"
      },
      "source": [
        "### 문제 12. 키 순으로 줄세우기\n",
        "* 문제10의 아이들의 키가 작은 순서부터 큰 순서로 정렬하여 출력해주세요."
      ]
    },
    {
      "cell_type": "code",
      "metadata": {
        "id": "QiZOqw3c2heu"
      },
      "source": [
        "# 코드\n"
      ],
      "execution_count": null,
      "outputs": []
    },
    {
      "cell_type": "markdown",
      "metadata": {
        "id": "xZuLz1Cq9Y2C"
      },
      "source": [
        "### 문제 13. 리스트의 데이터 타입을 한 번 만들어볼까요?\n",
        " - 위 문제 11번에서 만든 리스트의 데이터 타입을 확인해봅시다. \n",
        "> HINT : type() 를 이용하시면 됩니다. : )"
      ]
    },
    {
      "cell_type": "code",
      "metadata": {
        "id": "3tOm6YXe2hZg"
      },
      "source": [
        "# 코드\n"
      ],
      "execution_count": null,
      "outputs": []
    },
    {
      "cell_type": "markdown",
      "metadata": {
        "id": "Lil9sCF-9x9V"
      },
      "source": [
        "### 문제 14. 리스트 heights의 길이를  확인해볼까요?\n",
        " - 위 문제 12번에서 만든 리스트(heights)의 데이터 길이를 확인해봅시다. \n",
        "> HINT : len() 를 이용해보세요."
      ]
    },
    {
      "cell_type": "code",
      "metadata": {
        "id": "vGAMEU4t2hW6"
      },
      "source": [
        "# 코드\n"
      ],
      "execution_count": null,
      "outputs": []
    },
    {
      "cell_type": "markdown",
      "metadata": {
        "id": "uMeiEuYmO5YG"
      },
      "source": [
        "### 문제 15. 제일 키가 큰 아이가 전학을 가게 되었군요.\n",
        "* 아이들 중 키가 제일 컸던 친구가 전학을 가게 되었습니다. 이를 코드로 구현해보고, heights의 길이를 구해보세요\n",
        "* 5명의 아이 중 한 명이 전학을 갔으니, 4명이 되었겠군요.\n",
        "> HINT : remove()"
      ]
    },
    {
      "cell_type": "code",
      "metadata": {
        "id": "ObQPM60VO5KC"
      },
      "source": [
        "# 코드\n"
      ],
      "execution_count": null,
      "outputs": []
    },
    {
      "cell_type": "markdown",
      "metadata": {
        "id": "HQYRPrFYQC2u"
      },
      "source": [
        "### 문제 16. '장훈이'이라는 친구가 전학을 왔네요.\n",
        "* 전학을 갔던 친구보다 더 키가 큰 장훈이 라는 친구가 전학을 왔군요.\n",
        "* 이 친구의 키는 207cm 입니다. ()\n",
        "* 이를 반영하여 코드로 구현해보고, heights의 길이를 구해보세요\n",
        "* 다시 한 명이 전학을 왔으니, 5명이 되었겠군요.\n",
        "* 마찬가지로, cm는 표시하지 않습니다.\n",
        "> HINT : append()"
      ]
    },
    {
      "cell_type": "code",
      "metadata": {
        "id": "w8tn-8NdPr1j"
      },
      "source": [
        "# 코드\n"
      ],
      "execution_count": null,
      "outputs": []
    },
    {
      "cell_type": "markdown",
      "metadata": {
        "id": "0WpNsD6mKdNc"
      },
      "source": [
        "### 문제 17. 데이터를 보호하자.\n",
        "\n",
        "- 이제 학교에서 더 이상 전학을 받지도, 보내지도 않기로 결정이 되었습니다. \n",
        "\n",
        "- 아이들의 키 데이터를 리스트로 불러왔습니다. 불러온 데이터의 값이 더 이상 변경되지 않기를 원합니다.\n",
        "\n",
        "- 불러온 데이터가 저장된 리스트의 값을 변경할 수 없게 바꿔주는 코드를 작성하세요.\n",
        "\n",
        "> HINT : 데이터 타입을 바꾸시면 됩니다 :)"
      ]
    },
    {
      "cell_type": "code",
      "metadata": {
        "id": "rCw6xz7p2MeN"
      },
      "source": [
        "# 코드\n"
      ],
      "execution_count": null,
      "outputs": []
    },
    {
      "cell_type": "markdown",
      "metadata": {
        "id": "1wtAj7DqV_FY"
      },
      "source": [
        "### 문제 18. 장훈이만 이름이 있는 것이 아니다!\n",
        "- 5명의 아이들의 키는 있지만, 누구의 키인지 알 수 없었지만, 이제 알 수 있습니다.\n",
        "  - 양세형: 146(cm),  유세윤: 160(cm),  서강준: 167(cm),  유재석: 175.3(cm),  서장훈: 207cm\n",
        "  - cm 는 표시하지 않습니다.\n",
        "- 데이터 타입 중 Dictionary로 위처럼 이름(name - key)과 키(height - value)를 같이 붙여주려고 합니다. \n",
        "- 이를 코드로 작성해서 class_A 라는 변수에 담아줍니다. "
      ]
    },
    {
      "cell_type": "code",
      "metadata": {
        "id": "AfOf1NL2V-af"
      },
      "source": [
        "class_A = \n"
      ],
      "execution_count": null,
      "outputs": []
    },
    {
      "cell_type": "markdown",
      "metadata": {
        "id": "mPpq8SnVYNAi"
      },
      "source": [
        "### 문제 19. 이번에는 키로 학급의 어린이를 검색해보려고 합니다. \n",
        " - 예를 들면, \"175.3cm 인 친구는 누구였지?\"\n",
        " - 이를 코드로 구현해보고, 키가 175.3cm 인 친구를 찾아봅시다.\n",
        " > HINT : for 문을 이용해봅시다."
      ]
    },
    {
      "cell_type": "code",
      "metadata": {
        "id": "OmOVfV84ZLiI"
      },
      "source": [
        "# 코드\n"
      ],
      "execution_count": null,
      "outputs": []
    },
    {
      "cell_type": "markdown",
      "metadata": {
        "id": "AxBl-tOeAE1o"
      },
      "source": [
        "### 문제 20. 농구부를 뽑아볼까요?\n",
        " - class_A의 학급 친구들을 기억하시나요? 허재 감독이 미래의 농구 꿈나무를 선발하여 농구부를 만든다고 합니다. \n",
        " - 키가 175cm 이상인 친구들을 뽑아서 농구부를 결성한다고 합니다. \n",
        " - basketball_team  이라는 빈 리스트를 작성하여, 농구부가 될 아이들의 이름만 추가하는 코드를 작성해보세요.\n",
        " - 마지막에 basketball_team 을 출력해봅시다."
      ]
    },
    {
      "cell_type": "code",
      "metadata": {
        "id": "7B7Er3fJSrl9"
      },
      "source": [
        "class_A = {\"양세형\": 146, \"유세윤\": 160, \"서강준\": 167, \"유재석\": 175.3, \"서장훈\": 207}\n",
        "\n",
        "basket_ball = []\n",
        "\n",
        "## 코드를 작성해보세요 ##\n",
        "\n",
        "\n",
        "\n",
        "\n",
        "\n"
      ],
      "execution_count": null,
      "outputs": []
    },
    {
      "cell_type": "markdown",
      "metadata": {
        "id": "OlsjX1CACsK-"
      },
      "source": [
        "### 문제 21. 강준이의 키가 커졌네요.\n",
        " - 강준이가 키가 5cm 나 커졌네요. \n",
        " - 이를 코드로 작성해보세요 "
      ]
    },
    {
      "cell_type": "code",
      "metadata": {
        "id": "VxS0FhjpDAB6"
      },
      "source": [
        "## 코드를 작성해보세요 \n",
        "\n",
        "\n",
        "\n",
        "\n",
        "\n",
        "\n",
        "\n"
      ],
      "execution_count": null,
      "outputs": []
    },
    {
      "cell_type": "markdown",
      "metadata": {
        "id": "a9BTPzG7-oT2"
      },
      "source": [
        "### 문제 23. 다음 원소들은 포함하는 리스트 'L3'를 만들어봅시다. \n",
        "- 1, ['a', 2], 3.14, \"누구냐 넌?\" "
      ]
    },
    {
      "cell_type": "code",
      "metadata": {
        "id": "qyc2_dsk-nIt"
      },
      "source": [
        "L3 = \n"
      ],
      "execution_count": null,
      "outputs": []
    },
    {
      "cell_type": "markdown",
      "metadata": {
        "id": "R_clyyGjHxhN"
      },
      "source": [
        "### 문제 22. L3를 다르게 slicing해볼까요?\n",
        " - 이번에는 L3의 index2 부터 끝까지 잘라보겠습니다."
      ]
    },
    {
      "cell_type": "code",
      "metadata": {
        "id": "UQz_PHnlEj_g"
      },
      "source": [
        "# 코드\n"
      ],
      "execution_count": null,
      "outputs": []
    },
    {
      "cell_type": "markdown",
      "metadata": {
        "id": "6c1CdSg4_5Lw"
      },
      "source": [
        "### 문제 24. 리스트 L3의 index가 0에 해당하는 원소는 무엇일까요? \n",
        "- 리스트의 index는 맨 앞부터 0으로 시작하며, 1씩 증가하는 정수 index를 사용합니다.\n",
        "\n",
        "   e.g. [1, 2, 3]이면 첫번째 원소는 index가 0이고, 두번째 원소는 index가 1입니다.\n",
        "\n",
        "- L3의 경우, index가 0에 해당하는 원소는 1입니다. 출력 결과가 1이 나와야겠죠?"
      ]
    },
    {
      "cell_type": "code",
      "metadata": {
        "id": "c6fdFu_Q_OLr"
      },
      "source": [
        "# 코드\n"
      ],
      "execution_count": null,
      "outputs": []
    },
    {
      "cell_type": "markdown",
      "metadata": {
        "id": "EJDhHAQjA1lY"
      },
      "source": [
        "### 문제 25. 리스트 L3의 index가 -1에 해당하는 원소는 무엇일까요? \n",
        "\n",
        "- 파이썬에서는 음수 index도 제공하는데, 이는 뒤쪽부터 접근할 수 있는 방법입니다.\n",
        "\n",
        "  e.g. [1, 2, 3]이면 뒤에서 첫번째(맨 마지막)원소는 index가 -1이고, 뒤에서 두번째 원소는 index가 -2입니다.\n",
        "\n",
        "- L3의 경우, index가 -1에 해당하는 원소는 \"누구냐 넌?\"입니다. 출력 결과가 \"누구냐 넌\"이 나와야겠죠?"
      ]
    },
    {
      "cell_type": "code",
      "metadata": {
        "id": "0ITh1O47_N4r"
      },
      "source": [
        "# 코드\n"
      ],
      "execution_count": null,
      "outputs": []
    },
    {
      "cell_type": "markdown",
      "metadata": {
        "id": "6g75KDP4BsnA"
      },
      "source": [
        "### 문제 26. 위 문제19을 다르게도 풀어볼까요?\n",
        "\n",
        "- index를 통해 접근하는 방법은 해당 변수이름에 []를 사용하며, []안에 index를 넣어서 접근할 수 있습니다.\n",
        "\n",
        "    e.g L = [1, 2, 3]이면 L[0]은 1이고, L[2]는 L[-1]이며 3입니다.\n",
        "\n",
        "- L3의 경우, index가 -1에 해당하는 원소는 L3의 가장 마지막 원소입니다. 이것을 양수의 index로 구현해봅시다. 물론, 출력 결과가 \"누구냐 넌\"이 나와야겠죠?"
      ]
    },
    {
      "cell_type": "code",
      "metadata": {
        "id": "oU5D2Iu7-nF2"
      },
      "source": [
        "# 코드\n"
      ],
      "execution_count": null,
      "outputs": []
    },
    {
      "cell_type": "markdown",
      "metadata": {
        "id": "nvsaAlx2DflV"
      },
      "source": [
        "### 문제 27. L3의 원소 중 [ 'a', 2 ]를 indexing해서 'a'를 출력해봅시다. \n",
        "\n",
        " - 리스트에는 다양한 타입의 원소를 다 포함할 수 있습니다. 심지어 리스트도.\n",
        " - L3의 경우, [ 'a', 2 ]는 index가 1에 해당하는 원소입니다. \n",
        " - 여기서 한 번 더 index를 한다면, 'a'를 출력할 수 있지 않을까요?\n",
        "> HINT : [index_num1][index_num]"
      ]
    },
    {
      "cell_type": "code",
      "metadata": {
        "id": "ZlH1tAPA-nAH"
      },
      "source": [
        "# 코드\n"
      ],
      "execution_count": null,
      "outputs": []
    },
    {
      "cell_type": "markdown",
      "metadata": {
        "id": "BIEwPoUjFtzc"
      },
      "source": [
        "### 문제 28. L3를 slicing을 해볼까요? (1) \n",
        " - L3의 index2부터 끝까지 잘라보겠습니다."
      ]
    },
    {
      "cell_type": "code",
      "metadata": {
        "id": "LtJIAED5EkEr"
      },
      "source": [
        "# 코드\n"
      ],
      "execution_count": null,
      "outputs": []
    },
    {
      "cell_type": "markdown",
      "metadata": {
        "id": "JHPox647GKvB"
      },
      "source": [
        "### 문제 29. L3를 slicing해볼까요? (2)\n",
        " - L3의 첫번째부터 index2 까지 잘라보겠습니다.\n",
        " - 28번과 다른 방법으로 시도해보세요."
      ]
    },
    {
      "cell_type": "code",
      "metadata": {
        "id": "eRCqmz7HHyqk"
      },
      "source": [
        "# 코드\n"
      ],
      "execution_count": null,
      "outputs": []
    },
    {
      "cell_type": "markdown",
      "metadata": {
        "id": "osx22zW_I0U8"
      },
      "source": [
        "### 문제 30. L3의 리스트 함수들을 알아볼까요?\n",
        "- 리스트는 append, remove만 있는 게 아닙니다. 다른 함수들도 있는데, 무엇이 있는지 알아볼까요?\n",
        "\n",
        "> HINT : dir()"
      ]
    },
    {
      "cell_type": "code",
      "metadata": {
        "id": "2NoCVnaDJU6D"
      },
      "source": [
        "## 코드를 작성해보세요 ##\n",
        "L3 = [1, ['a', 2], 3.14, '누구냐 넌?']\n",
        "\n",
        "\n",
        "\n",
        "\n",
        "\n",
        "\n"
      ],
      "execution_count": null,
      "outputs": []
    },
    {
      "cell_type": "markdown",
      "metadata": {
        "id": "Sl85WtKKJtCy"
      },
      "source": [
        "### 문제 31. L3의 리스트 함수들 중 c로 시작하는 함수들만을 보고 싶군요. \n",
        "- dir(L3) 결과로 나온 리스트 함수들 중 c로 시작하는 함수만을 출력하고 싶습니다.\n",
        "> HINT : for문, if문"
      ]
    },
    {
      "cell_type": "code",
      "metadata": {
        "id": "qCI5IgvJJsjB"
      },
      "source": [
        "## 코드를 작성해보세요\n",
        "\n",
        "\n",
        "\n",
        "\n",
        "\n",
        "\n",
        "\n"
      ],
      "execution_count": null,
      "outputs": []
    },
    {
      "cell_type": "markdown",
      "metadata": {
        "id": "RDinWK3kF7Od"
      },
      "source": [
        "### 문제 32. 구구단 가로 출력 (for문)\n",
        "- 다음처럼 구구단을 가로로 출력해봅시다. \n",
        "    \n",
        "```\n",
        "2x1=2, 3x1=3, ..., 2x9= 18\n",
        "...\n",
        "2x9=19, 3x9=27, ..., 9x9= 81\n",
        "```\n",
        "\n",
        "> HINT\n",
        "\n",
        "- 이중 for문 안에 for문\n",
        "    \n",
        "- print: end = \"\\t\"\n",
        "    \n",
        "- string: format"
      ]
    },
    {
      "cell_type": "code",
      "metadata": {
        "id": "TGX9_GgWGK0f"
      },
      "source": [
        "## 코드를 작성해보세요\n",
        "\n",
        "\n",
        "\n",
        "\n",
        "\n",
        "\n",
        "\n"
      ],
      "execution_count": null,
      "outputs": []
    },
    {
      "cell_type": "markdown",
      "metadata": {
        "id": "f-FfBWD5G35k"
      },
      "source": [
        "### 문제 33. 구구단 가로 출력 (while문)\n",
        "- 다음처럼 구구단을 가로로 출력해봅시다. \n",
        "    \n",
        "```\n",
        "2x1=2, 3x1=3, ..., 2x9= 18\n",
        "...\n",
        "2x9=19, 3x9=27, ..., 9x9= 81\n",
        "```\n",
        "\n",
        "> HINT\n",
        "\n",
        "- 이중 while문 안에 while문\n",
        "    \n",
        "- print: end = \"\\t\"\n",
        "    \n",
        "- string: format"
      ]
    },
    {
      "cell_type": "code",
      "metadata": {
        "id": "3ZDEDWRmFDco"
      },
      "source": [
        "## 코드를 작성해보세요\n",
        "\n",
        "\n",
        "\n",
        "\n",
        "\n",
        "\n",
        "\n"
      ],
      "execution_count": null,
      "outputs": []
    },
    {
      "cell_type": "markdown",
      "metadata": {
        "id": "wUrzCeOKR6Qn"
      },
      "source": [
        "### 문제 34. 얼마나 걸릴까요?\n",
        "- for문을 이용하여 1부터 1000000까지의 숫자 중 3의 배수인 숫자들을 찾고, 몇 개가 있는지 알아보는 코드를 작성해보세요. \n",
        "- 또한 컴퓨터가 이 코드를 수행하는 데 걸린 시간을 알아볼 수 있는 코드도 같이 작성하세요.\n",
        "> HINT: for문, import time"
      ]
    },
    {
      "cell_type": "code",
      "metadata": {
        "id": "X77wa6mkR58j"
      },
      "source": [
        "## 코드를 작성해보세요 ##\n",
        "\n",
        "\n",
        "\n",
        "\n",
        "\n",
        "\n",
        "\n"
      ],
      "execution_count": null,
      "outputs": []
    },
    {
      "cell_type": "markdown",
      "metadata": {
        "id": "NaCiRg09TqQi"
      },
      "source": [
        "### 문제 35. 구구단은 얼마나 걸릴까요?\n",
        " - 위 문제 32번에서 작성한 코드를 이용하여 코드를 작성해봅시다. \n"
      ]
    },
    {
      "cell_type": "code",
      "metadata": {
        "id": "xRNLRGOWTpfk"
      },
      "source": [
        "## 코드를 작성해보세요 ##\n",
        "\n",
        "\n",
        "\n",
        "\n",
        "\n",
        "\n",
        "\n"
      ],
      "execution_count": null,
      "outputs": []
    },
    {
      "cell_type": "markdown",
      "metadata": {
        "id": "BBViXvHbLiU9"
      },
      "source": [
        "### 문제 36. 무엇을 타고 집에 갈까요?\n",
        "- 강준이라는 친구가 키가 5cm 자라더니 학교가 끝나고 집에 갈 때 잘 걸어가려 하지 않습니다. \n",
        "\n",
        "    - 강준이가 5000원 이상 소지하고 있을 경우 택시를 타고 집에 귀가할 수 있지만, 걸어서 귀가할 수도 있습니다.  \n",
        "        - print(\"택시를 탑니다.\")\n",
        "        - 택시를 탈 경우, 3000원이 소비됩니다. \n",
        "        - 남은 잔액도 출력해주세요\n",
        "    - 2000원 이상 있을 경우 버스를 타고 귀가하기로 했습니다.\n",
        "        - print(\"버스를 탑니다.\")\n",
        "        - 버스를 탈 경우, 1000원이 소비됩니다. \n",
        "        - 남은 잔액도 출력해주세요\n",
        "    - 2000원 미만일 경우 걸어서 귀가하기로 했습니다.\n",
        "        - print(\"걸어서 귀가합니다.\")\n",
        "\n",
        "- 이를 반영한 코드를 작성해보세요"
      ]
    },
    {
      "cell_type": "code",
      "metadata": {
        "id": "Jp1GKT2yHqKe"
      },
      "source": [
        "\n",
        "## 강준이가 소지하고 있는 금액을 money 라는 변수로 받습니다. \n",
        "## 현재 10000원이 있네요.\n",
        "money = 10000\n",
        "\n",
        "## 택시는 타겠다고 하네요.\n",
        "taxi = True\n",
        "\n",
        "## 코드를 작성해보세요 \n",
        "\n",
        "\n",
        "\n",
        "\n",
        "\n",
        "\n",
        "\n"
      ],
      "execution_count": null,
      "outputs": []
    },
    {
      "cell_type": "markdown",
      "metadata": {
        "id": "RDg7xlCsVNqv"
      },
      "source": [
        "### 문제 37. 오락에 빠진 강준이\n",
        "- 강준이가 택시에 내려서 걸어서 귀가하던 중, 집 근처 오락실에서 '철권'게임을 하고 싶어졌습니다. 회당 500원인 이 게임을 몇 번이나 할 수 있을까요?\n",
        "- 매번 게임을 진행한 뒤의 강준이가 가지고 있는 잔액과 몇 번 게임을 했는지 횟수를 출력해주는 코드를 작성해보세요. \n",
        "> HINT : while 문"
      ]
    },
    {
      "cell_type": "code",
      "metadata": {
        "id": "x0wqvZyURb25"
      },
      "source": [
        "\n",
        "## 강준이가 소지하고 있는 금액을 money 라는 변수로 받습니다. \n",
        "## 현재 택시에서 내려서 잔액이 7000원이군요.\n",
        "money = 7000\n",
        "# 현재 강준이의 게임횟수(counts)는 0번입니다.\n",
        "counts = 0\n",
        "\n",
        "## 코드를 작성해보세요 \n",
        "\n",
        "\n",
        "\n",
        "\n",
        "\n",
        "\n",
        "\n",
        "\n"
      ],
      "execution_count": null,
      "outputs": []
    },
    {
      "cell_type": "markdown",
      "metadata": {
        "id": "zfCd6ANbUMlt"
      },
      "source": [
        "## Function & magic command\n",
        "\n",
        "- 문제 38 ~ 문제 53\n",
        "- 개발 분야뿐만 아니라 데이터 분석에서도 파이썬의 함수는 강력한 위력을 발휘합니다.\n",
        "- 다양한 함수를 만들어보고 경험해봅시다.\n"
      ]
    },
    {
      "cell_type": "markdown",
      "metadata": {
        "id": "_B742fQwXbHF"
      },
      "source": [
        "### 문제 38. 함수를 선언해볼까요? \n",
        " - func()라는 변수에 빈리스트를 선언하는 코드를 작성해봅시다.\n",
        " - 함수를 실행하면, \"This is the Infinity Gaunthlet\" 메세지가 뜨도록 합니다.\n",
        "\n",
        "> HINT:  def function_name():"
      ]
    },
    {
      "cell_type": "code",
      "metadata": {
        "id": "WGQdoOpl4pNI"
      },
      "source": [
        "## 코드를 작성해보세요 ##\n",
        "\n",
        "\n",
        "\n",
        "\n",
        "\n",
        "\n",
        "\n"
      ],
      "execution_count": null,
      "outputs": []
    },
    {
      "cell_type": "markdown",
      "metadata": {
        "id": "12jM5CBpCj9D"
      },
      "source": [
        "### 문제 38. 간단한 계산기 함수를 만들어봅시다. \n",
        " - 더하기 기능의 간단한 함수를 코드로 작성해봅니다. \n",
        " - 이번에는 파라미터 number_01, number_02 를 받고, 이 둘을 더하는 함수 plus()를 코드로 작성합니다.\n",
        "    - 파라미터: 함수를 선언할 때 호출하는 부분에서 보내주는 데이터를 받는 변수를 뜻합니다. \n",
        "    - 아규먼트: 함수를 호출할 때 함수에 보내주는 데이터를 뜻합니다.\n",
        " - 함수를 구현한 후, 숫자 100과 23을 함수에 대입하여 함수를 실행해봅시다.\n",
        "\n",
        "> HINT: def function_name(a, b)"
      ]
    },
    {
      "cell_type": "code",
      "metadata": {
        "id": "HPOEsw29-d6J"
      },
      "source": [
        "## 코드를 작성해보세요 ##\n",
        "\n",
        "\n",
        "\n",
        "\n",
        "\n",
        "\n",
        "\n"
      ],
      "execution_count": null,
      "outputs": []
    },
    {
      "cell_type": "markdown",
      "metadata": {
        "id": "0I6o77dQX-Kp"
      },
      "source": [
        "### 문제 39. 조금 특별한 계산기를 만들어봅시다. \n",
        "\n",
        " - 위 함수와 동일하지만, 파라미터 number_01, number_02 중 number_02 를 default 값으로 100이 되도록 합니다.\n",
        " - 이 함수를 plus_ver2()로 합니다.\n",
        " - 디폴트 파라미터: 함수 선언할 때 파라미터의 값을 할당해둡니다. 함수 실행(호출)시 별도의 지정이 없으면, 처음에 할당된 파라미터의 값으로 파라미터가 할당이 되고 함수가 실행됩니다.\n",
        "\n",
        "- number_01 파라미터 하나에 숫자 11을 넣고 함수 plus_ver2()를 실행해봅니다."
      ]
    },
    {
      "cell_type": "code",
      "metadata": {
        "id": "dQaZEmQF99ni"
      },
      "source": [
        "## 코드를 작성해보세요 ##\n",
        "\n",
        "\n",
        "\n",
        "\n",
        "\n",
        "\n",
        "\n"
      ],
      "execution_count": null,
      "outputs": []
    },
    {
      "cell_type": "markdown",
      "metadata": {
        "id": "6CyWebmgUMlv"
      },
      "source": [
        "### 문제 40. number_02에 100말고 다른 값으로 함수 실행할 수 있을까요?\n",
        "\n",
        "- plus_ver2() 함수를 실행(호출)할 때, number_01에 숫자 0을, number_02에 77을 넣어보고 실행해봅시다.\n"
      ]
    },
    {
      "cell_type": "code",
      "metadata": {
        "id": "3dYj61jz95ty"
      },
      "source": [
        "## 코드를 작성해보세요 ##\n",
        "\n",
        "\n",
        "\n",
        "\n",
        "\n",
        "\n",
        "\n"
      ],
      "execution_count": null,
      "outputs": []
    },
    {
      "cell_type": "markdown",
      "metadata": {
        "id": "W_o431zcaPjb"
      },
      "source": [
        "### 문제 41. 숫자를 2개만 더하라는 법이 있습니까?\n",
        " - 이번에는 숫자를 개수에 제한없이 더할 수 있는 함수 plus_infinite()를 코드로 작성해봅니다. \n",
        "    > Hint : sum() 함수를 이용합니다.\n",
        " - *args\n",
        "   : 함수를 호출할때 아규먼트의 갯수를 특정지을 수 없을 때 사용합니다.\n",
        "   - 불특정한 수의 숫자들은 'args'라는 튜플에 추가됩니다. type(args) 로 데이터 타입과 args를 출력해봅시다. \n",
        " - 함수를 작성하고 숫자 1부터 17까지 넣고 함수를 실행해봅니다. \n",
        "   - 1, 2, 3, 4, 5, 6, 7, 8, 9, 10, 11, 12, 13, 14, 15, 16, 17"
      ]
    },
    {
      "cell_type": "code",
      "metadata": {
        "id": "_9pB0fz89dQu"
      },
      "source": [
        "## 코드를 작성해보세요\n",
        "\n",
        "\n",
        "\n",
        "\n",
        "\n",
        "\n",
        "\n"
      ],
      "execution_count": null,
      "outputs": []
    },
    {
      "cell_type": "markdown",
      "metadata": {
        "id": "lnVe_GR-UMlv"
      },
      "source": [
        "### 문제 42. 이번에는 키워드 아규먼트도 여러개 받아서 실행해볼까요?\n",
        "\n",
        "- 위 문제 05의 함수 plus_infinite() 선언 코드를 추가하여 새롭게 선언합니다. \n",
        "> HINT : **kwargs : 함수를 호출할때 키워드 아규먼트의 갯수를 특정지을 수 없을 때 사용합니다.\n",
        "\n",
        "\n",
        "- 불특정한 수의 키워드 아규먼트들은 'kwargs'라는 딕셔너리에 추가됩니다. type(kwargs) 로 데이터 타입과 kwargs를 출력해봅시다. \n",
        "\n",
        "- 이번에는 plus_infinite() 함수에 1, 2, 3, 4, num1 = 100, num2 = 3000, num3 = 20, num4 = 7 을 넣고 함수를 실행해봅니다."
      ]
    },
    {
      "cell_type": "code",
      "metadata": {
        "id": "as_33DYu8CBk"
      },
      "source": [
        "## 코드를 작성해보세요 \n",
        "\n",
        "def plus_infinite(*args, **kwargs):\n"
      ],
      "execution_count": null,
      "outputs": []
    },
    {
      "cell_type": "markdown",
      "metadata": {
        "id": "djV1HcXkOmr_"
      },
      "source": [
        "### 문제 43. list 를 통째로 함수에 넣으면 어떤 일이 일어날까요?\n",
        " - 위 문제 6번의 plus_infinite()를 그대로 사용합니다. \n",
        " - list_numbers 라는 다음 리스트를 넣고 실행해봅니다. \n",
        "   - list_numbers = [1, 2, 3, 4, 5, 6, 7, 8, 9, 10]\n",
        "   - 어떻게 넣고 실행하면 될까요?\n",
        "\n",
        "> HINT : *args"
      ]
    },
    {
      "cell_type": "code",
      "metadata": {
        "id": "8DFYOjzcPJNP"
      },
      "source": [
        "list_numbers = [1, 2, 3, 4, 5, 6, 7, 8, 9, 10]\n",
        "\n",
        "## 코드를 작성해보세요 \n",
        "#???#에 들어갈 코드는 무엇일까요?\n",
        "plus_inifinte(#???#)\n",
        "\n",
        "\n",
        "\n",
        "\n",
        "\n",
        "\n"
      ],
      "execution_count": null,
      "outputs": []
    },
    {
      "cell_type": "markdown",
      "metadata": {
        "id": "NJiegcI0PoR1"
      },
      "source": [
        "### 문제 44. 그렇다면 이번에는 딕셔너리를 통째로 함수에 넣고 실행해볼까요?\n",
        "\n",
        " - 위 문제 6번의 plus_infinite()를 그대로 사용합니다.\n",
        " - dict_heights 라는 딕셔너리를 넣고 실행해봅니다.\n",
        "   - dict_heights = {'rohoon_height' : 178, 'yongdam_height': 180, 'sungwoong_height' : 175, 'youngmin_height' : 176}\n",
        "\n",
        "   - 어떻게 넣고 실행하면 될까요?\n",
        "\n",
        "   \n",
        "> HINT : **kwargs"
      ]
    },
    {
      "cell_type": "code",
      "metadata": {
        "id": "ijAHWTJGQ1yq"
      },
      "source": [
        "dict_heights = {'rohoon_height' : 178, 'yongdam_height': 180, 'sungwoong_height' : 175, 'youngmin_height' : 176, 'Gwangsoo_height': 180}\n",
        "\n",
        "## 코드를 작성해보세요 ##\n",
        "#???#에 들어갈 코드는 무엇일까요?\n",
        "plus_inifinte(#???#)\n",
        "\n",
        "\n",
        "\n"
      ],
      "execution_count": null,
      "outputs": []
    },
    {
      "cell_type": "markdown",
      "metadata": {
        "id": "bNeqpE0LRDo6"
      },
      "source": [
        "### 문제 45. Docstring을 확인해봅시다.\n",
        " - Docstring 이란? \n",
        "   : 함수의 설명을 작성해놓은 기술문서입니다.\n",
        " - 기술Doc이라고도 하며, 수많은 파이썬 함수의 사용법과 정보를 나타냅니다.\n",
        " - 다음 명령어로 함수의 Docstring을 조회해봅시다. \n",
        "    -  plus_infinite?\n",
        "    -  plus_infinite??\n",
        "    -  help(plus_infinite)\n",
        "\n",
        "\n",
        "- 파이썬 내장 함수 중 sum(), type() 함수에 대한 Docstring을 조회해봅시다.\n",
        "- 앞으로 개발이든, 데이터분석에서든 Docstring을 확인할 일이 많을 것입니다."
      ]
    },
    {
      "cell_type": "code",
      "metadata": {
        "id": "Z25en1H67W1C"
      },
      "source": [
        "## 코드를 작성해보세요 ##\n",
        "\n",
        "\n",
        "\n",
        "\n",
        "\n",
        "\n",
        "\n"
      ],
      "execution_count": null,
      "outputs": []
    },
    {
      "cell_type": "markdown",
      "metadata": {
        "id": "pAd2pSGrZqvZ"
      },
      "source": [
        "### 문제 46. plus 함수를 간단한 코드로 작성할 수 없을까요?\n",
        "\n",
        "-  pythagoras() 함수는 2개의 숫자 아규먼트를 받고 각가 더한 값의 제곱근값을 return 합니다. \n",
        " - return : 함수의 값을 저장하고 싶을 때 사용합니다.\n",
        "\n",
        "\n",
        "> HINT: lambda 함수: 파라미터를 간단한 계산으로 리턴되는 함수입니다.\n",
        "\n",
        "- pythagoras() 함수를 lambda 함수로 표현한 후 숫자 3과 4를 넣고 실행해봅니다. \n",
        "\n",
        "- lambda로 표현한 함수를 pythagoras_lambda라는 이름의 함수로 정의합니다. \n"
      ]
    },
    {
      "cell_type": "code",
      "metadata": {
        "id": "lH8fmXyKS6d4"
      },
      "source": [
        "## 다음 코드를 lambda 함수로 구현해보세요\n",
        "\n",
        "def pythagoras(num1, num2):\n",
        "    return (num1**2 + num2**2)**0.5\n",
        "\n",
        "\n",
        "\n",
        "\n",
        "pythagoras_lambda =\n",
        "\n"
      ],
      "execution_count": null,
      "outputs": []
    },
    {
      "cell_type": "markdown",
      "metadata": {
        "id": "bUDhIYJocu1T"
      },
      "source": [
        "### 문제 47. 조건문이 들어간 간단한 함수를 코드 한 줄로 구현해봅시다.\n",
        "\n",
        " - 키가 180cm이상인 사람들의 경우, \"키가 정말 크군요\" 라는 메세지가 출력, 그렇지 않은 경우를 \"계속 키가 클 것입니다. : )\" 라는 메세지로 출력하도록 합니다.\n",
        " \n",
        " - height_high(181)과 height_high(178)을 각각 실행해볼까요?"
      ]
    },
    {
      "cell_type": "code",
      "metadata": {
        "id": "PEoSnwTp6s1n"
      },
      "source": [
        "## 코드를 작성해보세요 ##\n",
        "\n",
        "def height_high(height):\n",
        "\n",
        "\n",
        "\n",
        "\n",
        "\n"
      ],
      "execution_count": null,
      "outputs": []
    },
    {
      "cell_type": "markdown",
      "metadata": {
        "id": "DPLvW5YufPt5"
      },
      "source": [
        "### 문제 48. 다음 다섯 사람의 키입니다. 이 사람들의 키에 대해서 height_high() 함수에 넣고 실행해봅시다.\n",
        " - dict_heights = {'rohoon_height' : 178, 'yongdam_height': 180, 'sungwoong_height' : 175, 'youngmin_height' : 176, 'Gwangsoo_height': 180}\n",
        " - 문제 11의 height_high() 함수를 이용합니다.\n",
        " - 결과는 리스트 형태로 출력합니다.\n",
        " - (Hint) map 함수를 이용합니다."
      ]
    },
    {
      "cell_type": "code",
      "metadata": {
        "id": "GVeoqLySlT4U"
      },
      "source": [
        "dict_heights = {'rohoon_height' : 178, 'yongdam_height': 180, 'sungwoong_height' : 175, 'youngmin_height' : 176, 'Gwangsoo_height': 180}\n",
        "\n",
        "## 코드를 작성해보세요 ##\n",
        "\n",
        "\n",
        "\n",
        "\n"
      ],
      "execution_count": null,
      "outputs": []
    },
    {
      "cell_type": "markdown",
      "metadata": {
        "id": "KFX8C8IMi95j"
      },
      "source": [
        "### 문제 49. 키가 180이상인 사람들만 남겨볼까요?\n",
        "> HINT: filter 함수를 사용합니다."
      ]
    },
    {
      "cell_type": "code",
      "metadata": {
        "id": "qkhk_N2RlY-j"
      },
      "source": [
        "dict_heights = {'rohoon_height' : 178, 'yongdam_height': 180, 'sungwoong_height' : 175, 'youngmin_height' : 176, 'Gwangsoo_height': 180}\n",
        "\n",
        "## 코드를 작성해보세요 ##\n",
        "\n",
        "\n",
        "\n",
        "\n"
      ],
      "execution_count": null,
      "outputs": []
    },
    {
      "cell_type": "markdown",
      "metadata": {
        "id": "-2R6nDfPlkBy"
      },
      "source": [
        "### 문제 50. dict_heights의 정보를 하나씩 가져올 수 있도록 해보면 어떨까요?\n",
        "\n",
        "> HINT : iter(), next() 함수를 이용합니다.\n",
        "\n",
        "\n",
        "\n",
        "    - iter() 함수로 반복 가능한 객체를 생성합니다. \n",
        "    - next() 함수로 반복 가능한 객체의 원소를 하나씩 반환하도록 합니다.\n",
        "    - next() 함수를 총 세 번을 실행하고, 각 실행시의 출력결과를 살펴보세요.\n",
        " "
      ]
    },
    {
      "cell_type": "code",
      "metadata": {
        "id": "oVsY-min6JwD"
      },
      "source": [
        "## 코드를 작성해보세요 ##\n",
        "\n",
        "\n",
        "\n",
        "\n",
        "\n"
      ],
      "execution_count": null,
      "outputs": []
    },
    {
      "cell_type": "markdown",
      "metadata": {
        "id": "qbjdiqLzmdtv"
      },
      "source": [
        "### 문제 51. 단어 단위로 끊어진 대사를 다시 한 문장으로 합쳐볼까요?\n",
        " - \"Everything that has a beginning has an end, Neo.\" (Matrix)\n",
        "   \n",
        "   : \"시작이 있는 곳에 끝이 있어. 네오\"\n",
        "\n",
        " - 파이썬 string의 join 함수를 이용해서 합쳐봅시다.\n"
      ]
    },
    {
      "cell_type": "code",
      "metadata": {
        "id": "M3wQPReHnvwC"
      },
      "source": [
        "list_words = [\"Everything\", \"that\", \"has\", \"a\", \"beginning\", \"has\", \"an\", \"end\", \",\", \"Neo.\"]\n",
        "\n",
        "### 코드를 작성해보세요 ###\n",
        "#???# 부분과 #?????# 부분에 들어갈 코드는 무엇일까요?\n",
        "\n",
        "\n",
        "#???#.join(#?????#)\n",
        "\n",
        "\n",
        "\n"
      ],
      "execution_count": null,
      "outputs": []
    },
    {
      "cell_type": "markdown",
      "metadata": {
        "id": "b19buNsJpaHF"
      },
      "source": [
        "### 문제 52. 현재 선언된 변수들은 어떤 것들이 있을까요?\n",
        "\n",
        "> %who, %whos\n",
        "\n",
        "- 위 두 커맨드는 '매직커맨드'라고 합니다. RAN에 load 된 변수들을 확인합니다. \n",
        "- 실제로 데이터 분석시, 데이터 용량이 크기 때문에, RAM 관리시에 도움이 되는 커맨드 중 하나입니다. "
      ]
    },
    {
      "cell_type": "code",
      "metadata": {
        "id": "8hO-Mh4ZpAs0"
      },
      "source": [
        "# RAM에 load 된 변수들을 조회합니다.\n"
      ],
      "execution_count": null,
      "outputs": []
    },
    {
      "cell_type": "code",
      "metadata": {
        "id": "o-_yAZ9PsGr4"
      },
      "source": [
        "# RAM에 load 된 변수들을 상세하게 조회합니다.\n"
      ],
      "execution_count": null,
      "outputs": []
    },
    {
      "cell_type": "markdown",
      "metadata": {
        "id": "CaeIVk19sLQr"
      },
      "source": [
        "### 문제 53. 현재 선언된 변수들을 모두 지워버리고 싶다면 어떻게 하는 것이 좋을까요?\n",
        "\n",
        "> %reset\n",
        "\n",
        "- 위 '매직커맨드'라고 합니다. RAN에 load 된 변수들을 없애줍니다. 초기화합니다.\n",
        "한 번 실행해볼까요?\n",
        "- 실제 사용시에는 매우 신중해야겠죠?"
      ]
    },
    {
      "cell_type": "code",
      "metadata": {
        "id": "aqKhLH71bv7t"
      },
      "source": [
        "# 코드\n"
      ],
      "execution_count": null,
      "outputs": []
    },
    {
      "cell_type": "code",
      "metadata": {
        "id": "KQXLcdtRcZde"
      },
      "source": [
        "# 확인해볼까요?\n",
        "%who"
      ],
      "execution_count": null,
      "outputs": []
    },
    {
      "cell_type": "code",
      "metadata": {
        "id": "AI6n6WyTcZaw"
      },
      "source": [
        "# 다시 한 번 확인해봅시다.\n",
        "%whos"
      ],
      "execution_count": null,
      "outputs": []
    },
    {
      "cell_type": "markdown",
      "metadata": {
        "id": "1JauaOeb5eb6"
      },
      "source": [
        "***모든 변수가 제거 되었군요. : )***"
      ]
    },
    {
      "cell_type": "markdown",
      "metadata": {
        "id": "hNNwC8rs2h_I"
      },
      "source": [
        "## Lotto Generator\n",
        "- **문제 54 ~ 문제 60**\n",
        "- 로또를 구매시 자동으로 하자니 찝찝하고, 그렇다고 매장에서 자동으로 하자니 '그래도 되나?' 싶은 마음도 있을 것 입니다. 파이썬 코드로 구현해볼까요?\n",
        "\n",
        "- 지금까지 배운 파이썬 문법으로도 충분합니다. (List, while 을 이용)\n"
      ]
    },
    {
      "cell_type": "markdown",
      "metadata": {
        "id": "iQyPWPbFN5rk"
      },
      "source": [
        "### 문제 54. 로또 번호 6개를 담을 빈 리스트를 'lotto_numbers'라는 변수에 선언하고, 1 ~ 45 까지의 임의로 나오는 숫자 1개를 이 리스트에 추가해볼까요?\n",
        "> HINT : import random"
      ]
    },
    {
      "cell_type": "code",
      "metadata": {
        "id": "PgDkSY9ON5FR"
      },
      "source": [
        "##### Hint #####\n",
        "lotto_numbers = []\n",
        "\n",
        "## 1) random 라이브러리를 import 합니다.\n",
        "import random\n",
        "\n",
        "## 2) 위 라인에서 import한 random 라이브러리를 이용하여, 1 ~ 45 까지 임의의 숫자 1개를 무작위로 추출합니다. \n",
        "##   아래 코드를 1번 실행할 때마다 1개의 숫자를 임의로 뽑아줍니다. \n",
        "lotto_num = \n",
        "\n",
        "## 3) 실행하여 임의로 추출된 숫자를 확인해봅니다.\n",
        "lotto_num \n",
        "\n",
        "## 4) 다음 코드로, lotto_numbers 라는 리스트에 lotto_num을 추가합니다. \n",
        "lotto_numbers.append(lotto_num)\n",
        "lotto_numbers  ## lotto_num 1개의 숫자가 리스트에 잘 추가되었는지 확인해봅니다. "
      ],
      "execution_count": null,
      "outputs": []
    },
    {
      "cell_type": "markdown",
      "metadata": {
        "id": "jX1VKUU7Q7W0"
      },
      "source": [
        "### 문제 55. if 조건문으로 lotto_numbers에 lotto_num을 중복없이 추가하는 코드를 작성해봅시다. \n",
        "\n",
        "- 문제 02에서 임의로 숫자를 추출하다보면, 숫자가 중복되어 추출될 수 있습니다. 로또에는 숫자가 중복될 수 없기 때문입니다. \n",
        "\n",
        "> HINT: not in "
      ]
    },
    {
      "cell_type": "code",
      "metadata": {
        "id": "Xk15ueweg48f"
      },
      "source": [
        "## 먼저 다음 코드를 한 번 더 실행하여 임의로 숫자 하나를 더 뽑아봅시다. \n",
        "lotto_num = random.randint(1, 45) \n",
        "\n",
        "\n",
        "\n"
      ],
      "execution_count": null,
      "outputs": []
    },
    {
      "cell_type": "markdown",
      "metadata": {
        "id": "pxGk4IEaW4sZ"
      },
      "source": [
        "### 문제 56. 우리가 지금까지 몇 개의 숫자를 뽑았는지 알아볼까요?\n",
        " - wlrma까지 2개의 숫자를 뽑았는데, (우리의 머리가 아닌) 몇 개를 뽑았는 지 알 수 있는 코드를 작성해볼까요? \n",
        "\n",
        "> HINT : len()"
      ]
    },
    {
      "cell_type": "code",
      "metadata": {
        "id": "1l_asXLYW4Qe"
      },
      "source": [
        "## 코드를 작성해보세요.\n",
        "\n",
        "\n"
      ],
      "execution_count": null,
      "outputs": []
    },
    {
      "cell_type": "markdown",
      "metadata": {
        "id": "a0bmlmpFUMt_"
      },
      "source": [
        "### 문제 57. 숫자(로또 번호) 6개를 뽑아보는 코드를 작성해봅시다. (while 문을 이용)\n",
        "\n",
        "> HINT : while len(  )<= :\n"
      ]
    },
    {
      "cell_type": "code",
      "metadata": {
        "id": "HlsFDHwViJUL"
      },
      "source": [
        "## 코드를 작성하세요\n",
        "\n",
        "\n",
        "\n",
        "\n"
      ],
      "execution_count": null,
      "outputs": []
    },
    {
      "cell_type": "markdown",
      "metadata": {
        "id": "W-OppkL2aR3b"
      },
      "source": [
        "### 문제 58.  이번에는 for문을 이용하여, 숫자(로또 번호) 6개를 뽑아보는 코드를 작성해봅시다.\n",
        "\n",
        ">  HINT : for문, range(6)"
      ]
    },
    {
      "cell_type": "code",
      "metadata": {
        "id": "D966w0DeaRgj"
      },
      "source": [
        "## 코드를 작성해보세요.\n",
        "\n",
        "## 1) for문을 이용해 새롭게 뽑을 숫자 6개를 담을 리스트입니다. \n",
        "lotto_numbers_for = []\n",
        "\n",
        "## 2) 아래 코드를 이용해보세요.\n",
        "lotto_num = random.randint(1, 45) # 임의로 숫자 1개를 뽑는 코드입니다.\n",
        "\n",
        "\n",
        "\n",
        "\n",
        "## 3) lotto_num를 숫자의 중복없이 lotto_numbers_for 리스트에 추가합니다. \n",
        "if lotto_num not in lotto_numbers:\n",
        "    lotto_numbers_for.append(lotto_num)\n",
        "\n",
        "\n",
        "\n",
        "\n"
      ],
      "execution_count": null,
      "outputs": []
    },
    {
      "cell_type": "markdown",
      "metadata": {
        "id": "1GAR9T9Qc8w3"
      },
      "source": [
        "### 문제 59. 이번에는 lotto_generator() 라는 함수로 만들어볼까요?\n",
        "- 매번 3~4줄의 코드를 작성하는 것보다, 함수로 구현해놓고, 원할 때마다 함수를 실행해서 로또 번호 6개가 나오게끔 하면 훨씬 편하지 않을까요?\n"
      ]
    },
    {
      "cell_type": "code",
      "metadata": {
        "id": "iYbvxSYmcgCB"
      },
      "source": [
        "## 코드를 작성해보세요 \n",
        "\n",
        "## 1) 함수 선언\n",
        "def lotto_generator():\n",
        "    ## 위 문제 5번 혹은 7번에서 작성한 코드를 이용하셔도 됩니다. \n",
        "\n",
        "\n",
        "\n",
        "\n",
        "\n",
        "    return\n",
        "\n"
      ],
      "execution_count": null,
      "outputs": []
    },
    {
      "cell_type": "markdown",
      "metadata": {
        "id": "CarZ5HRpiQq4"
      },
      "source": [
        "### 문제 60. [심화학습] Decorator 함수를 이용하여, 비밀번호를 입력하여 이용할 수 있도록 해봅시다.\n",
        "- 비밀번호는 'python38' 로 설정합니다.\n",
        "\n",
        "> HINT : 이전 문제에서 작성한 코드를 이용하여 작성하셔도 됩니다."
      ]
    },
    {
      "cell_type": "code",
      "metadata": {
        "id": "GvjaQfojjXDE"
      },
      "source": [
        "## 코드를 작성해보세요 \n",
        "\n",
        "\n",
        "\n",
        "\n",
        "\n"
      ],
      "execution_count": null,
      "outputs": []
    },
    {
      "cell_type": "code",
      "metadata": {
        "id": "hBPVNyjQpJ--"
      },
      "source": [
        "# 구글드라이브 마운트 (파일을 불러오기 위해서)\n",
        "from google.colab import drive\n",
        "drive.mount('/content/drive')"
      ],
      "execution_count": null,
      "outputs": []
    },
    {
      "cell_type": "code",
      "metadata": {
        "id": "6ap4iRCrpTxM"
      },
      "source": [
        "## 현재 경로\n",
        "base_path = '/content/drive/MyDrive/Colab Notebooks/data/'"
      ],
      "execution_count": null,
      "outputs": []
    },
    {
      "cell_type": "markdown",
      "metadata": {
        "id": "WgspUu_yotc4"
      },
      "source": [
        "### 문제 61. 이번에는 way.txt 의 첫 줄만을 출력해볼까요?\n",
        "\n",
        "> HINT:  open(path,  'r') as f"
      ]
    },
    {
      "cell_type": "code",
      "metadata": {
        "id": "0WQmu8Doom7g"
      },
      "source": [
        "## 코드를 작성해보세요\n",
        "\n",
        "\n",
        "\n",
        "\n",
        "\n",
        "\n",
        "\n"
      ],
      "execution_count": null,
      "outputs": []
    },
    {
      "cell_type": "markdown",
      "metadata": {
        "id": "WobxasvCq6x6"
      },
      "source": [
        "### 문제 62. 이번에는 way.txt 의 모든 줄을 출력해볼까요?\n",
        "\n",
        "- 첫 줄만 뽑아보니, 무언가 감미로운 시같은 문장이 나오는 군요. \n",
        "- 모든 줄을 출력해보려고 합니다. 출력해볼까요?\n",
        "\n",
        "> HINT:  f.readlines()"
      ]
    },
    {
      "cell_type": "code",
      "metadata": {
        "id": "TqR-kD_uom2O"
      },
      "source": [
        "## 코드를 작성해보세요\n",
        "\n",
        "\n",
        "\n",
        "\n",
        "\n",
        "\n",
        "\n"
      ],
      "execution_count": null,
      "outputs": []
    },
    {
      "cell_type": "markdown",
      "metadata": {
        "id": "0O23IGFwr5mO"
      },
      "source": [
        "### 문제 63. for문을 이용하여 way.txt 의 모든 줄을 출력해볼까요?\n",
        "- 노래 가사군요.\n",
        "- 이번에는 f.readlines(), readline() 함수를 사용하지 않고, for 문으로 출력해볼까요?"
      ]
    },
    {
      "cell_type": "code",
      "metadata": {
        "id": "zqg0mrSTsCEa"
      },
      "source": [
        "## 코드를 작성해보세요 ##\n",
        "\n",
        "\n",
        "\n",
        "\n",
        "\n",
        "\n",
        "\n"
      ],
      "execution_count": null,
      "outputs": []
    },
    {
      "cell_type": "markdown",
      "metadata": {
        "id": "LjaoWSTTsKHg"
      },
      "source": [
        "### 문제 64. way.txt를 열어서 '그만 그만' 은 부분을 모두 다 지우고 싶습니다. 어떻게 해야할까요?\n",
        " - 다 좋은데, '그만 그만'은 왠지 마음에 들지 않아 지우고 싶어졌습니다.\n",
        " - 또한, 밑에 소스, 작사 부분도 지우고 싶어졌습니다. \n",
        " - 위 두 가지 사항을 지운 노래가사를 result.txt 파일에 작성하여 저장하도록 해보세요.\n",
        " - 이를 반영하는 코드를 작성해보세요."
      ]
    },
    {
      "cell_type": "code",
      "metadata": {
        "id": "11jcmuDIsVFl"
      },
      "source": [
        "## 코드를 작성해보세요 \n",
        "\n",
        "\n",
        "\n",
        "\n",
        "\n",
        "\n",
        "\n"
      ],
      "execution_count": null,
      "outputs": []
    },
    {
      "cell_type": "code",
      "metadata": {
        "id": "6rWsHytBp-ob"
      },
      "source": [
        ""
      ],
      "execution_count": null,
      "outputs": []
    }
  ]
}